{
 "cells": [
  {
   "cell_type": "markdown",
   "metadata": {
    "colab_type": "text",
    "id": "view-in-github"
   },
   "source": [
    "<a href=\"https://colab.research.google.com/github/YintongMa/EEGDataMining/blob/main/Multiclass.ipynb\" target=\"_parent\"><img src=\"https://colab.research.google.com/assets/colab-badge.svg\" alt=\"Open In Colab\"/></a>"
   ]
  },
  {
   "cell_type": "code",
   "execution_count": null,
   "metadata": {
    "id": "RAfch-oaY4lf"
   },
   "outputs": [],
   "source": [
    "def multi(X, y, batch_size, kn):\n",
    "    error_arr = []\n",
    "    subset_num = int(len(X) / batch_size) - 1\n",
    "    for i in range(subset_num):\n",
    "\n",
    "        print(\"batch: \" + str(i))\n",
    "        error = 0\n",
    "        X_test = X[i * batch_size: (i + 1) * batch_size]\n",
    "        y_test = y[i * batch_size: (i + 1) * batch_size]\n",
    "        X_train = np.concatenate((X[0: i * batch_size], X[(i + 1) * batch_size: len(X)]))\n",
    "        label_train = np.concatenate((y[0: i * batch_size], y[(i + 1) * batch_size: len(y)]))\n",
    "\n",
    "        svm_list = []\n",
    "        for i in range(10):\n",
    "            print('building predictor for ' + str(i))\n",
    "            y_train = []\n",
    "            for j in range(len(label_train)):\n",
    "                if label_train[j] == i:\n",
    "                    y_train.append(1)\n",
    "                else:\n",
    "                    y_train.append(-1)\n",
    "\n",
    "            print('running svm')\n",
    "            cf = svm(kernel=kn)\n",
    "            cf.fit(X_train, y_train)\n",
    "            svm_list.append(cf)\n",
    "\n",
    "\n",
    "        print('predicting')\n",
    "        scores = np.zeros((len(svm_list),len(X_test)))\n",
    "        for i in range(len(svm_list)):\n",
    "            scores[i] = np.array(svm_list[i].predict((X_test))).T\n",
    "\n",
    "        scores = scores.T\n",
    "        result = []\n",
    "        for j in range(len(y_test)):\n",
    "            result.append(np.abs(scores[j] - 1).argmin())\n",
    "\n",
    "\n",
    "        for j in range(len(result)):\n",
    "            if result[j] != y_test[j]:\n",
    "                error = error + 1\n",
    "        error_rate = error / batch_size\n",
    "        error_arr.append(error_rate)\n",
    "        print('error_rate: '+str(error_rate))\n",
    "        print('***************************')\n",
    "\n",
    "    print(\"Error rate of each iteration: \" + str(error_arr))\n",
    "    print(\"Average error rate:\" + str(np.average(error_arr)))\n",
    "\n",
    "\n",
    "\n",
    "\n",
    "\n",
    "\n",
    "\n",
    "\n",
    "\n",
    "\n",
    "\n",
    "\n",
    "\n",
    "\n"
   ]
  }
 ],
 "metadata": {
  "colab": {
   "authorship_tag": "ABX9TyPyNJjJdebiAtOgUZ6afe/s",
   "collapsed_sections": [],
   "include_colab_link": true,
   "name": "Multiclass.ipynb",
   "provenance": []
  },
  "kernelspec": {
   "display_name": "Python 3",
   "language": "python",
   "name": "python3"
  },
  "language_info": {
   "codemirror_mode": {
    "name": "ipython",
    "version": 3
   },
   "file_extension": ".py",
   "mimetype": "text/x-python",
   "name": "python",
   "nbconvert_exporter": "python",
   "pygments_lexer": "ipython3",
   "version": "3.7.8"
  }
 },
 "nbformat": 4,
 "nbformat_minor": 4
}
