{
 "cells": [
  {
   "cell_type": "code",
   "execution_count": 152,
   "metadata": {},
   "outputs": [],
   "source": [
    "# import mne\n",
    "import pywt\n",
    "import numpy as np\n",
    "import pandas as pd\n",
    "import antropy as ant\n",
    "\n",
    "from os import listdir\n",
    "# from entropy import *\n",
    "from tqdm import tqdm\n",
    "from scipy.stats import entropy\n",
    "\n",
    "from sklearn.decomposition import PCA\n",
    "from sklearn.utils import shuffle\n",
    "from scipy.stats import entropy\n",
    "from multiprocessing import Pool\n",
    "from pyrqa.settings import Settings\n",
    "from pyrqa.analysis_type import Classic\n",
    "from pyrqa.time_series import TimeSeries\n",
    "from pyrqa.neighbourhood import FixedRadius\n",
    "from pyrqa.metric import EuclideanMetric\n",
    "from pyrqa.computation import RQAComputation\n",
    "from dit.other import renyi_entropy"
   ]
  },
  {
   "cell_type": "code",
   "execution_count": 120,
   "metadata": {},
   "outputs": [],
   "source": [
    "def load_data_mindbig(data, channel_num, id_num):\n",
    "    \"\"\"Load sample data of MindBigData from the data/ folder.\n",
    "    Args:\n",
    "        id: digit number the subject is seeing and thinking during the experiment. \n",
    "        Should be a number between 0 and 9 or all.\n",
    "    Returns:\n",
    "        all_data: datasets of EEG signals.\n",
    "        all_label: datasets of labels, -1 for rest, 1 for seeing and thinking about a digit.\n",
    "    \"\"\"\n",
    "\n",
    "    data_path = \"./data/\" + data +\".txt\"\n",
    "\n",
    "    data_file = open(data_path, \"r\")\n",
    "    data_lines = data_file.readlines()\n",
    "    \n",
    "\n",
    "    all_data = []\n",
    "    all_label = []\n",
    "\n",
    "    data = [line.split(\"\\t\") for line in data_lines]\n",
    "    data = [i for i in data if i[5] == \"256\"]\n",
    "\n",
    "\n",
    "    if id_num == \"all\":\n",
    "        rest_data = [i for i in data if i[4] == \"-1\"]\n",
    "        math_data = [i for i in data if i[4] != \"-1\"]\n",
    "    else:\n",
    "        rest_data = [i for i in data if i[4] == \"-1\"]\n",
    "        math_data = [i for i in data if i[4] == id_num]\n",
    "\n",
    "    rest_event = np.unique([i[1] for i in rest_data])\n",
    "    math_event = np.unique([i[1] for i in math_data])\n",
    "    \n",
    "    print(len(rest_event))\n",
    "    print(len(math_event))\n",
    "\n",
    "#     rest_event = np.unique([i[1] for i in rest_data])\n",
    "#     math_event = np.unique([i[1] for i in math_data])\n",
    "    \n",
    "    if id_num == \"all\":\n",
    "        math_event = math_event[0 : len(rest_event)]\n",
    "    else:\n",
    "        rest_event = rest_event[0 : len(math_event)]\n",
    "\n",
    "    for event in tqdm(rest_event):\n",
    "        event_data = [\n",
    "            [int(float(k)) for k in i[6].split(\",\")]\n",
    "            for i in rest_data\n",
    "            if i[1] == event\n",
    "        ]\n",
    "        if len(event_data) == channel_num:\n",
    "            all_data.append(event_data)\n",
    "            all_label.append(-1)\n",
    "\n",
    "    for event in tqdm(math_event):\n",
    "        event_data = [\n",
    "            [int(float(k)) for k in i[6].split(\",\")]\n",
    "            for i in math_data\n",
    "            if i[1] == event\n",
    "        ]\n",
    "        if len(event_data) == channel_num:\n",
    "            all_data.append(event_data)\n",
    "            all_label.append(1)\n",
    "\n",
    "    all_data, all_label = shuffle(all_data, all_label)\n",
    "\n",
    "    return all_data, all_label"
   ]
  },
  {
   "cell_type": "code",
   "execution_count": 121,
   "metadata": {},
   "outputs": [],
   "source": [
    "def wavelet_decompose(data, level, wavelet):\n",
    "    \"\"\"Decompose EEG input into different bands.\n",
    "    Args:\n",
    "        data (numpy.ndarray): array of dimension [number of samples,\n",
    "                number of channels].\n",
    "        level (float): Decomposition level (must be >= 0).\n",
    "        wavelet (str): type of wavelet to use.\n",
    "    Returns:\n",
    "        all_bands (numpy.ndarray): [band frequency, channel\n",
    "            number of bands].\n",
    "    \"\"\"\n",
    "    all_bands = []\n",
    "\n",
    "    for channel in data:\n",
    "        all_bands.append([])\n",
    "        coeffs = pywt.wavedec(channel, wavelet, level=level)\n",
    "        for i in range(len(coeffs)):\n",
    "            if i != 0:\n",
    "                all_bands[len(all_bands) - 1].extend(coeffs[i])\n",
    "\n",
    "    return all_bands"
   ]
  },
  {
   "cell_type": "code",
   "execution_count": 138,
   "metadata": {},
   "outputs": [],
   "source": [
    "def _renyi_entropy(band):\n",
    "    \"\"\"Compute Renyi entropy.\n",
    "    Renyi entropy is a super class of Shannon entropy when alpha approaches 1.\n",
    "    Here we compute Shannon entropy instead.\n",
    "    Args:\n",
    "        band (numpy.ndarray): one band of samples [band frequency x channel].\n",
    "    Returns:\n",
    "        ren_en: calculated features from Renyi entropy.\n",
    "    \"\"\"\n",
    "\n",
    "    pd_series = pd.Series(band)\n",
    "    counts = pd_series.value_counts()\n",
    "    ren_en = entropy(counts)\n",
    "\n",
    "    return ren_en\n",
    "\n",
    "\n",
    "def _rqa_entropy(band):\n",
    "    \"\"\"Compute RQA entropy.\n",
    "    Args:\n",
    "        band (numpy.ndarray): one band of samples [band frequency x channel].\n",
    "    Returns:\n",
    "        rr, det, entr, lam, tt, vmax, lmax (float): calculated features from RQA entropy.\n",
    "    \"\"\"\n",
    "    time_series = TimeSeries(band, embedding_dimension=2, time_delay=2)\n",
    "    settings = Settings(\n",
    "        time_series,\n",
    "        analysis_type=Classic,\n",
    "        neighbourhood=FixedRadius(0.65),\n",
    "        similarity_measure=EuclideanMetric,\n",
    "        theiler_corrector=1,\n",
    "    )\n",
    "\n",
    "    computation = RQAComputation.create(settings, verbose=False)\n",
    "    result = computation.run()\n",
    "    result.min_diagonal_line_length = 2\n",
    "    result.min_vertical_line_length = 2\n",
    "    result.min_white_vertical_line_length = 2\n",
    "\n",
    "    rr = result.recurrence_rate\n",
    "    det = result.determinism\n",
    "    entr = result.entropy_diagonal_lines\n",
    "    lam = result.laminarity\n",
    "    tt = result.trapping_time\n",
    "    vmax = result.longest_vertical_line\n",
    "    lmax = result.longest_diagonal_line\n",
    "\n",
    "    return rr, det, entr, lam, tt, vmax, lmax"
   ]
  },
  {
   "cell_type": "code",
   "execution_count": 142,
   "metadata": {},
   "outputs": [],
   "source": [
    "def compute_entropy(all_bands):\n",
    "    \"\"\"Compute entropy for each bands.\n",
    "    Args:\n",
    "        all-bands data after reshape (numpy.ndarray): [band frequency x channel,\n",
    "            number of designated bands].\n",
    "    Returns:\n",
    "        entropy_output (numpy.ndarray):  [number of entropy features, number of bands].\n",
    "    \"\"\"\n",
    "    entropy_output = []\n",
    "    for band in all_bands:\n",
    "        band = np.nan_to_num(band)\n",
    "        # Approximate entropy\n",
    "        ap_en = ant.app_entropy(band, order=2, metric=\"chebyshev\")\n",
    "\n",
    "        # Sample entropy\n",
    "        samp_en = ant.sample_entropy(band, order=2, metric=\"chebyshev\")\n",
    "\n",
    "        # Renyi entropy\n",
    "#         ren_en = _renyi_entropy(band)\n",
    "\n",
    "        # Recurrence quantification analysis\n",
    "        rr, det, entr, lam, tt, vmax, lmax = _rqa_entropy(band)\n",
    "        entropy_all = [\n",
    "            ap_en,\n",
    "            samp_en,\n",
    "#             ren_en,\n",
    "            rr,\n",
    "            det,\n",
    "            entr,\n",
    "            lam,\n",
    "            tt,\n",
    "            vmax,\n",
    "            lmax,\n",
    "        ]\n",
    "        entropy_all = np.nan_to_num(entropy_all)\n",
    "        entropy_output.extend(entropy_all)\n",
    "\n",
    "    return entropy_output"
   ]
  },
  {
   "cell_type": "code",
   "execution_count": 150,
   "metadata": {},
   "outputs": [],
   "source": [
    "def compute_pca(data):\n",
    "    pca = PCA()\n",
    "    pca_data = pca.fit_transform(data)\n",
    "    return pca_data"
   ]
  },
  {
   "cell_type": "code",
   "execution_count": 128,
   "metadata": {},
   "outputs": [
    {
     "name": "stderr",
     "output_type": "stream",
     "text": [
      " 27%|██▋       | 43/159 [00:00<00:00, 423.53it/s]"
     ]
    },
    {
     "name": "stdout",
     "output_type": "stream",
     "text": [
      "159\n",
      "1191\n"
     ]
    },
    {
     "name": "stderr",
     "output_type": "stream",
     "text": [
      "100%|██████████| 159/159 [00:00<00:00, 382.23it/s]\n",
      "100%|██████████| 1191/1191 [00:05<00:00, 217.91it/s]\n"
     ]
    }
   ],
   "source": [
    "all_data, all_label = load_data_mindbig(\"EP\", 14, \"4\")"
   ]
  },
  {
   "cell_type": "code",
   "execution_count": null,
   "metadata": {},
   "outputs": [],
   "source": []
  },
  {
   "cell_type": "code",
   "execution_count": 134,
   "metadata": {},
   "outputs": [
    {
     "data": {
      "text/plain": [
       "1350"
      ]
     },
     "execution_count": 134,
     "metadata": {},
     "output_type": "execute_result"
    }
   ],
   "source": [
    "len(all_data)"
   ]
  },
  {
   "cell_type": "code",
   "execution_count": 143,
   "metadata": {},
   "outputs": [
    {
     "name": "stderr",
     "output_type": "stream",
     "text": [
      "100%|██████████| 1350/1350 [07:43<00:00,  2.92it/s]\n"
     ]
    }
   ],
   "source": [
    "eeg_data = []\n",
    "\n",
    "for batch in tqdm(all_data):\n",
    "    all_bands = wavelet_decompose(batch, 6, \"db1\")\n",
    "    entropy = compute_entropy(all_bands)\n",
    "    eeg_data.append(entropy)"
   ]
  },
  {
   "cell_type": "code",
   "execution_count": 144,
   "metadata": {},
   "outputs": [
    {
     "data": {
      "text/plain": [
       "1350"
      ]
     },
     "execution_count": 144,
     "metadata": {},
     "output_type": "execute_result"
    }
   ],
   "source": [
    "len(eeg_data)"
   ]
  },
  {
   "cell_type": "code",
   "execution_count": 153,
   "metadata": {},
   "outputs": [],
   "source": [
    "eeg_data_pca = compute_pca(eeg_data)"
   ]
  },
  {
   "cell_type": "code",
   "execution_count": null,
   "metadata": {},
   "outputs": [],
   "source": []
  }
 ],
 "metadata": {
  "kernelspec": {
   "display_name": "Python 3",
   "language": "python",
   "name": "python3"
  },
  "language_info": {
   "codemirror_mode": {
    "name": "ipython",
    "version": 3
   },
   "file_extension": ".py",
   "mimetype": "text/x-python",
   "name": "python",
   "nbconvert_exporter": "python",
   "pygments_lexer": "ipython3",
   "version": "3.9.5"
  }
 },
 "nbformat": 4,
 "nbformat_minor": 4
}
