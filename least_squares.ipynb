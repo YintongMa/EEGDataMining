{
 "cells": [
  {
   "cell_type": "code",
   "execution_count": 51,
   "metadata": {},
   "outputs": [],
   "source": [
    "import numpy as np\n",
    "import pandas as pd\n",
    "import sklearn\n",
    "\n",
    "from sklearn.decomposition import PCA\n",
    "from sklearn.utils import shuffle"
   ]
  },
  {
   "cell_type": "code",
   "execution_count": 52,
   "metadata": {},
   "outputs": [],
   "source": [
    "# Load data with specific id number\n",
    "def load_data(id_num, not_id=False):\n",
    "    data = np.load(\"eeg_data.npz\")\n",
    "    X = data['x']\n",
    "    y = data['y']\n",
    "    \n",
    "    if not_id:\n",
    "        index = [i for i in range(len(y)) if y[i] != id_num]\n",
    "    else:\n",
    "        index = [i for i in range(len(y)) if y[i] == id_num]\n",
    "    \n",
    "    output_data = []\n",
    "    output_label = []\n",
    "    \n",
    "    for i in index:\n",
    "        output_data.append(X[i])\n",
    "        output_label.append(y[i])\n",
    "        \n",
    "    return output_data, output_label"
   ]
  },
  {
   "cell_type": "code",
   "execution_count": 56,
   "metadata": {},
   "outputs": [],
   "source": [
    "# Compare seeing one number with rest \n",
    "def binary_all_channel(data, label, assigned_y):\n",
    "    if len(data) != len(label):\n",
    "        print(\"Something is wrong here\")\n",
    "        return\n",
    "    \n",
    "    output_data = []\n",
    "    output_label = []\n",
    "    \n",
    "    for i in range(len(label)):\n",
    "        output_label.append([assigned_y])\n",
    "  \n",
    "        feature = np.concatenate(data[i])\n",
    "        feature = np.nan_to_num(feature)\n",
    "        output_data.append(feature)\n",
    "        \n",
    "    return output_data, output_label    "
   ]
  },
  {
   "cell_type": "code",
   "execution_count": 57,
   "metadata": {},
   "outputs": [],
   "source": [
    "def multiclass_all_channel(data, label, id_num):\n",
    "    if len(data) != len(label):\n",
    "        print(\"Something is wrong here\")\n",
    "        return\n",
    "    \n",
    "    output_data = []\n",
    "    output_label = []\n",
    "    \n",
    "    for i in range(len(label)):\n",
    "        if label[i] != id_num and label[i] != -1:\n",
    "            print(\"Something is wrong here\")\n",
    "            break\n",
    "        output_label.append([label[i]])\n",
    "        feature = np.concatenate(data[i])\n",
    "        feature = np.nan_to_num(feature)\n",
    "        output_data.append(feature)\n",
    "        \n",
    "    return output_data, output_label    "
   ]
  },
  {
   "cell_type": "code",
   "execution_count": 5,
   "metadata": {},
   "outputs": [],
   "source": [
    "def least_squares(X, y):\n",
    "    w = np.linalg.inv((X.transpose() @ X)) @ (X.transpose() @ y)\n",
    "    return w"
   ]
  },
  {
   "cell_type": "code",
   "execution_count": 6,
   "metadata": {},
   "outputs": [],
   "source": [
    "def reg_least_squares(X, y, k):\n",
    "    u, s, vh = np.linalg.svd(X, full_matrices=True)\n",
    "    if k == -2:\n",
    "        s_ridged = [i/(i**2+0) for i in s]\n",
    "    else:\n",
    "        s_ridged = [i/(i**2+2**k) for i in s]\n",
    "    \n",
    "    s_matrix_ridged = np.zeros((vh.shape[0], u.shape[0]), float)\n",
    "    np.fill_diagonal(s_matrix_ridged, s_ridged)\n",
    "    \n",
    "    w = vh.transpose() @ s_matrix_ridged @ u.transpose() @ y\n",
    "#     w = np.linalg.inv((X.transpose() @ X)) @ (X.transpose() @ y)\n",
    "    return w"
   ]
  },
  {
   "cell_type": "code",
   "execution_count": 7,
   "metadata": {},
   "outputs": [],
   "source": [
    "def predict(X, w, mode):\n",
    "    raw_val = X.transpose() @ w\n",
    "    \n",
    "    if mode == \"binary\":\n",
    "        if raw_val >= 0:\n",
    "            return 1\n",
    "        if raw_val < 0:\n",
    "            return -1\n",
    "    if mode == \"multiclass\":\n",
    "        return round(raw_val[0])"
   ]
  },
  {
   "cell_type": "code",
   "execution_count": 8,
   "metadata": {
    "scrolled": true
   },
   "outputs": [],
   "source": [
    "def cross_val(X, y, batch_size, classifier):\n",
    "    error_arr = []\n",
    "    subset_num = int(len(X)/batch_size)-1\n",
    "    for i in range(subset_num):\n",
    "        error = 0\n",
    "        X_test = X[i*batch_size: (i+1)*batch_size]\n",
    "        y_test = y[i*batch_size: (i+1)*batch_size]\n",
    "        X_train = np.concatenate((X[0: i*batch_size], X[(i+1)*batch_size: len(X)]))\n",
    "        y_train = np.concatenate((y[0: i*batch_size], y[(i+1)*batch_size: len(y)]))\n",
    "\n",
    "        w = least_squares(X_train, y_train)\n",
    "        for i in range(len(X_test)):\n",
    "            result = predict(X_test[i], w, classifier)\n",
    "            if result != y_test[i]:\n",
    "                error = error + 1\n",
    "        error_rate = error/batch_size\n",
    "        error_arr.append(error_rate)\n",
    "    \n",
    "    print (\"Error rate of each iteration: \" + str(error_arr))\n",
    "    print (\"Average error rate:\" + str(np.average(error_arr)))"
   ]
  },
  {
   "cell_type": "code",
   "execution_count": 13,
   "metadata": {},
   "outputs": [],
   "source": [
    "def compute_pca(data):\n",
    "    pca = PCA()\n",
    "    pca_data = pca.fit_transform(data)\n",
    "    return pca_data"
   ]
  },
  {
   "cell_type": "code",
   "execution_count": 78,
   "metadata": {},
   "outputs": [
    {
     "name": "stderr",
     "output_type": "stream",
     "text": [
      "/Library/Frameworks/Python.framework/Versions/3.7/lib/python3.7/site-packages/numpy/core/fromnumeric.py:87: RuntimeWarning: overflow encountered in reduce\n",
      "  return ufunc.reduce(obj, axis, dtype, out, **passkwargs)\n"
     ]
    }
   ],
   "source": [
    "class_1 = 1\n",
    "class_2 = -1\n",
    "\n",
    "data_rest, label_rest = load_data(class_1)\n",
    "data_rest, label_rest = binary_all_channel(data_rest, label_rest, 1)\n",
    "\n",
    "data_4, label_4 = load_data(class_2)\n",
    "data_4, label_4 = binary_all_channel(data_4, label_4, -1)\n",
    "\n",
    "X = np.concatenate((data_rest, data_4))\n",
    "y = np.concatenate((label_rest, label_4))\n",
    "\n",
    "X_normalized = sklearn.preprocessing.normalize(X, norm='l2')\n",
    "X_pca = compute_pca(X_normalized)\n",
    "\n",
    "all_data, all_label = shuffle(X_pca, y)"
   ]
  },
  {
   "cell_type": "code",
   "execution_count": 79,
   "metadata": {},
   "outputs": [
    {
     "name": "stdout",
     "output_type": "stream",
     "text": [
      "Error rate of each iteration: [0.04, 0.03, 0.05, 0.07, 0.09, 0.05, 0.01, 0.05, 0.08, 0.05, 0.06, 0.09, 0.02]\n",
      "Average error rate:0.053076923076923084\n"
     ]
    }
   ],
   "source": [
    "cross_val(all_data, all_label, 100, \"binary\")"
   ]
  },
  {
   "cell_type": "code",
   "execution_count": 80,
   "metadata": {},
   "outputs": [
    {
     "name": "stderr",
     "output_type": "stream",
     "text": [
      "/Library/Frameworks/Python.framework/Versions/3.7/lib/python3.7/site-packages/numpy/core/fromnumeric.py:87: RuntimeWarning: overflow encountered in reduce\n",
      "  return ufunc.reduce(obj, axis, dtype, out, **passkwargs)\n"
     ]
    },
    {
     "name": "stdout",
     "output_type": "stream",
     "text": [
      "Digit0\n",
      "Error rate of each iteration: [0.0, 0.0, 0.02, 0.01, 0.01, 0.04, 0.02, 0.05, 0.06, 0.06, 0.03, 0.03]\n",
      "Average error rate:0.027500000000000007\n"
     ]
    },
    {
     "name": "stderr",
     "output_type": "stream",
     "text": [
      "/Library/Frameworks/Python.framework/Versions/3.7/lib/python3.7/site-packages/numpy/core/fromnumeric.py:87: RuntimeWarning: overflow encountered in reduce\n",
      "  return ufunc.reduce(obj, axis, dtype, out, **passkwargs)\n"
     ]
    },
    {
     "name": "stdout",
     "output_type": "stream",
     "text": [
      "Digit1\n",
      "Error rate of each iteration: [0.03, 0.0, 0.01, 0.03, 0.03, 0.01, 0.04, 0.05, 0.04, 0.0, 0.02, 0.02, 0.03]\n",
      "Average error rate:0.02384615384615385\n"
     ]
    },
    {
     "name": "stderr",
     "output_type": "stream",
     "text": [
      "/Library/Frameworks/Python.framework/Versions/3.7/lib/python3.7/site-packages/numpy/core/fromnumeric.py:87: RuntimeWarning: overflow encountered in reduce\n",
      "  return ufunc.reduce(obj, axis, dtype, out, **passkwargs)\n"
     ]
    },
    {
     "name": "stdout",
     "output_type": "stream",
     "text": [
      "Digit2\n",
      "Error rate of each iteration: [0.01, 0.0, 0.02, 0.03, 0.02, 0.07, 0.02, 0.05, 0.04, 0.04, 0.03, 0.03]\n",
      "Average error rate:0.03\n"
     ]
    },
    {
     "name": "stderr",
     "output_type": "stream",
     "text": [
      "/Library/Frameworks/Python.framework/Versions/3.7/lib/python3.7/site-packages/numpy/core/fromnumeric.py:87: RuntimeWarning: overflow encountered in reduce\n",
      "  return ufunc.reduce(obj, axis, dtype, out, **passkwargs)\n"
     ]
    },
    {
     "name": "stdout",
     "output_type": "stream",
     "text": [
      "Digit3\n",
      "Error rate of each iteration: [0.03, 0.06, 0.04, 0.03, 0.05, 0.03, 0.05, 0.02, 0.06, 0.02, 0.01, 0.02]\n",
      "Average error rate:0.03500000000000001\n"
     ]
    },
    {
     "name": "stderr",
     "output_type": "stream",
     "text": [
      "/Library/Frameworks/Python.framework/Versions/3.7/lib/python3.7/site-packages/numpy/core/fromnumeric.py:87: RuntimeWarning: overflow encountered in reduce\n",
      "  return ufunc.reduce(obj, axis, dtype, out, **passkwargs)\n"
     ]
    },
    {
     "name": "stdout",
     "output_type": "stream",
     "text": [
      "Digit4\n",
      "Error rate of each iteration: [0.03, 0.02, 0.03, 0.04, 0.01, 0.02, 0.01, 0.02, 0.0, 0.05, 0.05, 0.02]\n",
      "Average error rate:0.024999999999999998\n"
     ]
    },
    {
     "name": "stderr",
     "output_type": "stream",
     "text": [
      "/Library/Frameworks/Python.framework/Versions/3.7/lib/python3.7/site-packages/numpy/core/fromnumeric.py:87: RuntimeWarning: overflow encountered in reduce\n",
      "  return ufunc.reduce(obj, axis, dtype, out, **passkwargs)\n"
     ]
    },
    {
     "name": "stdout",
     "output_type": "stream",
     "text": [
      "Digit5\n",
      "Error rate of each iteration: [0.06, 0.01, 0.05, 0.03, 0.03, 0.03, 0.01, 0.02, 0.0, 0.0, 0.03, 0.03, 0.06]\n",
      "Average error rate:0.027692307692307697\n"
     ]
    },
    {
     "name": "stderr",
     "output_type": "stream",
     "text": [
      "/Library/Frameworks/Python.framework/Versions/3.7/lib/python3.7/site-packages/numpy/core/fromnumeric.py:87: RuntimeWarning: overflow encountered in reduce\n",
      "  return ufunc.reduce(obj, axis, dtype, out, **passkwargs)\n"
     ]
    },
    {
     "name": "stdout",
     "output_type": "stream",
     "text": [
      "Digit6\n",
      "Error rate of each iteration: [0.03, 0.05, 0.06, 0.02, 0.05, 0.03, 0.04, 0.07, 0.1, 0.01, 0.05, 0.08, 0.1]\n",
      "Average error rate:0.05307692307692307\n"
     ]
    },
    {
     "name": "stderr",
     "output_type": "stream",
     "text": [
      "/Library/Frameworks/Python.framework/Versions/3.7/lib/python3.7/site-packages/numpy/core/fromnumeric.py:87: RuntimeWarning: overflow encountered in reduce\n",
      "  return ufunc.reduce(obj, axis, dtype, out, **passkwargs)\n"
     ]
    },
    {
     "name": "stdout",
     "output_type": "stream",
     "text": [
      "Digit7\n",
      "Error rate of each iteration: [0.03, 0.04, 0.05, 0.06, 0.01, 0.01, 0.04, 0.05, 0.0, 0.01, 0.08, 0.01]\n",
      "Average error rate:0.0325\n"
     ]
    },
    {
     "name": "stderr",
     "output_type": "stream",
     "text": [
      "/Library/Frameworks/Python.framework/Versions/3.7/lib/python3.7/site-packages/numpy/core/fromnumeric.py:87: RuntimeWarning: overflow encountered in reduce\n",
      "  return ufunc.reduce(obj, axis, dtype, out, **passkwargs)\n"
     ]
    },
    {
     "name": "stdout",
     "output_type": "stream",
     "text": [
      "Digit8\n",
      "Error rate of each iteration: [0.02, 0.02, 0.04, 0.01, 0.02, 0.03, 0.06, 0.03, 0.01, 0.03, 0.03, 0.01]\n",
      "Average error rate:0.025833333333333337\n"
     ]
    },
    {
     "name": "stderr",
     "output_type": "stream",
     "text": [
      "/Library/Frameworks/Python.framework/Versions/3.7/lib/python3.7/site-packages/numpy/core/fromnumeric.py:87: RuntimeWarning: overflow encountered in reduce\n",
      "  return ufunc.reduce(obj, axis, dtype, out, **passkwargs)\n"
     ]
    },
    {
     "name": "stdout",
     "output_type": "stream",
     "text": [
      "Digit9\n",
      "Error rate of each iteration: [0.03, 0.05, 0.03, 0.01, 0.02, 0.03, 0.02, 0.03, 0.03, 0.02, 0.02, 0.02]\n",
      "Average error rate:0.025833333333333337\n"
     ]
    }
   ],
   "source": [
    "# Classify rest and a number n (0-9)\n",
    "for i in range(10):\n",
    "    data_rest, label_rest = load_data(-1)\n",
    "    data_rest, label_rest = binary_all_channel(data_rest, label_rest, 1)\n",
    "\n",
    "    data_num, label_num = load_data(i)\n",
    "    data_num, label_num = binary_all_channel(data_num, label_num, -1)\n",
    "\n",
    "\n",
    "    X = np.concatenate((data_rest, data_num))\n",
    "    y = np.concatenate((label_rest, label_num))\n",
    "\n",
    "    X_normalized = sklearn.preprocessing.normalize(X, norm='l2')\n",
    "    X_pca = compute_pca(X_normalized)\n",
    "\n",
    "    all_data, all_label = shuffle(X_pca, y)\n",
    "    \n",
    "    print(\"Digit\" + str(i))\n",
    "    cross_val(all_data, all_label, 100, \"binary\")"
   ]
  },
  {
   "cell_type": "code",
   "execution_count": 145,
   "metadata": {},
   "outputs": [
    {
     "name": "stderr",
     "output_type": "stream",
     "text": [
      "/Library/Frameworks/Python.framework/Versions/3.7/lib/python3.7/site-packages/numpy/core/fromnumeric.py:87: RuntimeWarning: overflow encountered in reduce\n",
      "  return ufunc.reduce(obj, axis, dtype, out, **passkwargs)\n"
     ]
    },
    {
     "name": "stdout",
     "output_type": "stream",
     "text": [
      "Error rate of each iteration: [0.889, 0.907, 0.892, 0.872, 0.908, 0.897, 0.885, 0.906, 0.88, 0.892]\n",
      "Average error rate:0.8928\n"
     ]
    }
   ],
   "source": [
    "# Classify multiple class (0-9 and rest)\n",
    "\n",
    "X, y = load_data(-1)\n",
    "X, y = multiclass_all_channel(X, y, -1)\n",
    "\n",
    "for i in range(0, 9):\n",
    "    data_num, label_num = load_data(i)\n",
    "    data_num, label_num = multiclass_all_channel(data_num, label_num, i)\n",
    "    \n",
    "    X = np.concatenate((X, data_num))\n",
    "    y = np.concatenate((y, label_num))\n",
    "    \n",
    "X_normalized = sklearn.preprocessing.normalize(X, norm='l2')\n",
    "X_pca = compute_pca(X_normalized)\n",
    "\n",
    "all_data, all_label = shuffle(X_pca, y)\n",
    "cross_val(all_data, all_label, 1000, \"multiclass\")"
   ]
  },
  {
   "cell_type": "code",
   "execution_count": 143,
   "metadata": {},
   "outputs": [
    {
     "data": {
      "text/plain": [
       "11167"
      ]
     },
     "execution_count": 143,
     "metadata": {},
     "output_type": "execute_result"
    }
   ],
   "source": [
    "len(X)"
   ]
  },
  {
   "cell_type": "code",
   "execution_count": 107,
   "metadata": {},
   "outputs": [
    {
     "data": {
      "text/plain": [
       "159"
      ]
     },
     "execution_count": 107,
     "metadata": {},
     "output_type": "execute_result"
    }
   ],
   "source": [
    "len([i for i in y if i[0] == -1])"
   ]
  }
 ],
 "metadata": {
  "kernelspec": {
   "display_name": "Python 3",
   "language": "python",
   "name": "python3"
  },
  "language_info": {
   "codemirror_mode": {
    "name": "ipython",
    "version": 3
   },
   "file_extension": ".py",
   "mimetype": "text/x-python",
   "name": "python",
   "nbconvert_exporter": "python",
   "pygments_lexer": "ipython3",
   "version": "3.7.8"
  }
 },
 "nbformat": 4,
 "nbformat_minor": 4
}
