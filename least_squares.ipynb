{
 "cells": [
  {
   "cell_type": "code",
   "execution_count": 80,
   "metadata": {},
   "outputs": [],
   "source": [
    "import numpy as np\n",
    "import pandas as pd"
   ]
  },
  {
   "cell_type": "code",
   "execution_count": 81,
   "metadata": {},
   "outputs": [],
   "source": [
    "# Load data with specific id number\n",
    "def load_data(id_num):\n",
    "    data = np.load(\"eeg_data.npz\")\n",
    "    X = data['x']\n",
    "    y = data['y']\n",
    "    \n",
    "    index = [i for i in range(len(y)) if y[i] == id_num]\n",
    "    \n",
    "    output_data = []\n",
    "    output_label = []\n",
    "    \n",
    "    for i in index:\n",
    "        output_data.append(X[i])\n",
    "        output_label.append(y[i])\n",
    "        \n",
    "    return output_data, output_label"
   ]
  },
  {
   "cell_type": "code",
   "execution_count": 150,
   "metadata": {},
   "outputs": [],
   "source": [
    "# Compare seeing one number with rest \n",
    "def binary_all_channel(data, label, id_num):\n",
    "    if len(data) != len(label):\n",
    "        print(\"Something is wrong here\")\n",
    "        return\n",
    "    \n",
    "    output_data = []\n",
    "    output_label = []\n",
    "    \n",
    "    for i in range(len(label)):\n",
    "        if label[i] != id_num and label[i] != -1:\n",
    "            print(\"Something is wrong here\")\n",
    "            break\n",
    "        if label[i] != -1:\n",
    "            output_label.append([1])\n",
    "        else:\n",
    "            output_label.append([-1])\n",
    "        \n",
    "        feature = np.concatenate(data[i])\n",
    "        feature = np.nan_to_num(feature)\n",
    "        output_data.append(feature)\n",
    "        \n",
    "    return output_data, output_label    "
   ]
  },
  {
   "cell_type": "code",
   "execution_count": 118,
   "metadata": {},
   "outputs": [],
   "source": [
    "def train(X, y):\n",
    "    w = np.linalg.inv((X.transpose() @ X)) @ (X.transpose() @ y)\n",
    "    return w"
   ]
  },
  {
   "cell_type": "code",
   "execution_count": 84,
   "metadata": {},
   "outputs": [],
   "source": [
    "def binary_predict(X, w):\n",
    "    raw_val = X.transpose() @ w\n",
    "    \n",
    "    if raw_val >= 0:\n",
    "        return 1\n",
    "    if raw_val < 0:\n",
    "        return -1"
   ]
  },
  {
   "cell_type": "code",
   "execution_count": 85,
   "metadata": {},
   "outputs": [],
   "source": [
    "def binaryclass_predict(X, w):\n",
    "    raw_val = X.transpose() @ w\n",
    "    \n",
    "    if raw_val >= 0:\n",
    "        return 1\n",
    "    if raw_val < 0:\n",
    "        return -1"
   ]
  },
  {
   "cell_type": "code",
   "execution_count": 90,
   "metadata": {},
   "outputs": [],
   "source": [
    "def cross_val(X,y):\n",
    "    error_arr = []\n",
    "    for i in range(subset_num):\n",
    "        error = 0\n",
    "        X_test = X[i*16: (i+1)*16]\n",
    "        y_test = y[i*16: (i+1)*16]\n",
    "        X_train = np.concatenate((X[0: i*16], X[(i+1)*16: len(X)]))\n",
    "        y_train = np.concatenate((y[0: i*16], y[(i+1)*16: len(y)]))\n",
    "\n",
    "        w = train(X_train, y_train)\n",
    "        for i in range(len(X_test)):\n",
    "            result = predict(X_test[i], w)\n",
    "            if result != y_test[i]:\n",
    "                error = error + 1\n",
    "        error_rate = error/16\n",
    "        error_arr.append(error_rate)\n",
    "    \n",
    "    print (\"Error rate of each iteration: \" + str(error_arr))\n",
    "    print (\"Average error rate:\" + str(np.average(error_arr)))"
   ]
  },
  {
   "cell_type": "code",
   "execution_count": 151,
   "metadata": {},
   "outputs": [],
   "source": [
    "data_rest, label_rest = load_data(-1)\n",
    "data_rest, label_rest = binary_all_channel(data_rest, label_rest, 4)\n",
    "\n",
    "data_4, label_4 = load_data(4)\n",
    "data_4, label_4 = binary_all_channel(data_4, label_4, 4)\n",
    "\n",
    "X = np.concatenate((data_rest, data_4))"
   ]
  },
  {
   "cell_type": "code",
   "execution_count": 154,
   "metadata": {},
   "outputs": [
    {
     "data": {
      "text/plain": [
       "1350"
      ]
     },
     "execution_count": 154,
     "metadata": {},
     "output_type": "execute_result"
    }
   ],
   "source": [
    "len(X)"
   ]
  },
  {
   "cell_type": "code",
   "execution_count": 155,
   "metadata": {},
   "outputs": [
    {
     "data": {
      "text/plain": [
       "84.375"
      ]
     },
     "execution_count": 155,
     "metadata": {},
     "output_type": "execute_result"
    }
   ],
   "source": [
    "1350/16"
   ]
  },
  {
   "cell_type": "code",
   "execution_count": null,
   "metadata": {},
   "outputs": [],
   "source": []
  }
 ],
 "metadata": {
  "kernelspec": {
   "display_name": "Python 3",
   "language": "python",
   "name": "python3"
  },
  "language_info": {
   "codemirror_mode": {
    "name": "ipython",
    "version": 3
   },
   "file_extension": ".py",
   "mimetype": "text/x-python",
   "name": "python",
   "nbconvert_exporter": "python",
   "pygments_lexer": "ipython3",
   "version": "3.7.8"
  }
 },
 "nbformat": 4,
 "nbformat_minor": 4
}
