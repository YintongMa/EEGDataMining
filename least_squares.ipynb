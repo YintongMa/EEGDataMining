{
 "cells": [
  {
   "cell_type": "code",
   "execution_count": 450,
   "metadata": {},
   "outputs": [],
   "source": [
    "import sklearn\n",
    "import warnings \n",
    "import numpy as np\n",
    "import pandas as pd\n",
    "from sklearn.decomposition import PCA\n",
    "from sklearn.utils import shuffle"
   ]
  },
  {
   "cell_type": "code",
   "execution_count": 451,
   "metadata": {},
   "outputs": [],
   "source": [
    "warnings.filterwarnings(\"ignore\", category=RuntimeWarning)"
   ]
  },
  {
   "cell_type": "code",
   "execution_count": 503,
   "metadata": {},
   "outputs": [],
   "source": [
    "# Load data with specific id number\n",
    "def load_data(id_num, not_id=False):\n",
    "    data = np.load(\"eeg_data_shuffle.npz\")\n",
    "    X = data['x']\n",
    "    y = data['y']\n",
    "    \n",
    "    if not_id:\n",
    "        index = [i for i in range(len(y)) if y[i] != id_num]\n",
    "    else:\n",
    "        index = [i for i in range(len(y)) if y[i] == id_num]\n",
    "    \n",
    "    output_data = []\n",
    "    output_label = []\n",
    "    \n",
    "    for i in index:\n",
    "        output_data.append(X[i])\n",
    "        output_label.append(y[i])\n",
    "        \n",
    "    return output_data, output_label"
   ]
  },
  {
   "cell_type": "code",
   "execution_count": 426,
   "metadata": {},
   "outputs": [],
   "source": [
    "# Compare seeing one number with rest \n",
    "def binary_all_channel(data, label, assigned_y):\n",
    "    if len(data) != len(label):\n",
    "        print(\"Something is wrong here\")\n",
    "        return\n",
    "    \n",
    "    output_data = []\n",
    "    output_label = []\n",
    "    \n",
    "    for i in range(len(label)):\n",
    "        output_label.append([assigned_y])\n",
    "  \n",
    "        feature = np.concatenate(data[i])\n",
    "        feature = np.nan_to_num(feature)\n",
    "        output_data.append(feature)\n",
    "        \n",
    "    return output_data, output_label    "
   ]
  },
  {
   "cell_type": "code",
   "execution_count": 427,
   "metadata": {},
   "outputs": [],
   "source": [
    "def binary_selected_channel(data, label, assigned_y, brain_region): \n",
    "    output_data = []\n",
    "    output_label = []\n",
    "    channel_list = ['AF3', 'F7', 'F3', 'FC5', 'T7', 'P7', 'O1', 'O2', 'P8', 'T8', 'FC6', 'F4', 'F8', 'AF4']\n",
    "    \n",
    "    if len(data) != len(label):\n",
    "        print(\"Something is wrong here\")\n",
    "        return\n",
    "    if brain_region == \"frontal\":\n",
    "        index = [i for i in range(len(channel_list)) if 'F' in channel_list[i]]\n",
    "    if brain_region == \"temporal\":\n",
    "        index = [i for i in range(len(channel_list)) if 'T' in channel_list[i]]\n",
    "    if brain_region == \"parietal\":\n",
    "        index = [i for i in range(len(channel_list)) if 'P' in channel_list[i]]\n",
    "    if brain_region == \"occipital\":\n",
    "        index = [i for i in range(len(channel_list)) if 'O' in channel_list[i]]\n",
    "    \n",
    "    for i in range(len(label)):\n",
    "        output_label.append([assigned_y])\n",
    "        feature = data[i][index[0]]\n",
    "        for k in index[1:]:\n",
    "            feature = np.append(feature, data[i][k])\n",
    "        feature = np.nan_to_num(feature)\n",
    "        output_data.append(feature)\n",
    "        \n",
    "    return output_data, output_label  "
   ]
  },
  {
   "cell_type": "code",
   "execution_count": 428,
   "metadata": {},
   "outputs": [],
   "source": [
    "def multiclass_all_channel(data, label, id_num):\n",
    "    if len(data) != len(label):\n",
    "        print(\"Something is wrong here\")\n",
    "        return\n",
    "    \n",
    "    output_data = []\n",
    "    output_label = []\n",
    "    \n",
    "    for i in range(len(label)):\n",
    "        if label[i] != id_num and label[i] != -1:\n",
    "            print(\"Something is wrong here\")\n",
    "            break\n",
    "        output_label.append([label[i]])\n",
    "        feature = np.concatenate(data[i])\n",
    "        feature = np.nan_to_num(feature)\n",
    "        output_data.append(feature)\n",
    "        \n",
    "    return output_data, output_label    "
   ]
  },
  {
   "cell_type": "code",
   "execution_count": 429,
   "metadata": {},
   "outputs": [],
   "source": [
    "def least_squares(X, y):\n",
    "    w = np.linalg.inv((X.transpose() @ X)) @ (X.transpose() @ y)\n",
    "    return w"
   ]
  },
  {
   "cell_type": "code",
   "execution_count": 430,
   "metadata": {},
   "outputs": [],
   "source": [
    "def reg_least_squares(X, y, k):\n",
    "    u, s, vh = np.linalg.svd(X, full_matrices=True)\n",
    "    if k == -2:\n",
    "        s_ridged = [i/(i**2+0) for i in s]\n",
    "    else:\n",
    "        s_ridged = [i/(i**2+2**k) for i in s]\n",
    "    \n",
    "    s_matrix_ridged = np.zeros((vh.shape[0], u.shape[0]), float)\n",
    "    np.fill_diagonal(s_matrix_ridged, s_ridged)\n",
    "    \n",
    "    w = vh.transpose() @ s_matrix_ridged @ u.transpose() @ y\n",
    "    return w"
   ]
  },
  {
   "cell_type": "code",
   "execution_count": 431,
   "metadata": {},
   "outputs": [],
   "source": [
    "def predict(X, w, mode):\n",
    "    raw_val = X.transpose() @ w\n",
    "    \n",
    "    if mode == \"binary\":\n",
    "        if raw_val >= 0:\n",
    "            return 1\n",
    "        if raw_val < 0:\n",
    "            return -1\n",
    "    if mode == \"multiclass\":\n",
    "        return round(raw_val[0])"
   ]
  },
  {
   "cell_type": "code",
   "execution_count": 432,
   "metadata": {
    "scrolled": true
   },
   "outputs": [],
   "source": [
    "def cross_val(X, y, batch_size, classifier):\n",
    "    error_arr = []\n",
    "    subset_num = int(len(X)/batch_size)-1\n",
    "    for i in range(subset_num):\n",
    "        error = 0\n",
    "        X_test = X[i*batch_size: (i+1)*batch_size]\n",
    "        y_test = y[i*batch_size: (i+1)*batch_size]\n",
    "        X_train = np.concatenate((X[0: i*batch_size], X[(i+1)*batch_size: len(X)]))\n",
    "        y_train = np.concatenate((y[0: i*batch_size], y[(i+1)*batch_size: len(y)]))\n",
    "\n",
    "        w = least_squares(X_train, y_train)\n",
    "        for i in range(len(X_test)):\n",
    "            result = predict(X_test[i], w, classifier)\n",
    "            if result != y_test[i]:\n",
    "                error = error + 1\n",
    "        error_rate = error/batch_size\n",
    "        error_arr.append(error_rate)\n",
    "    \n",
    "#     print (\"Error rate of each iteration: \" + str(error_arr))\n",
    "    print (\"Average error rate:\" + str(np.average(error_arr)))"
   ]
  },
  {
   "cell_type": "code",
   "execution_count": 433,
   "metadata": {},
   "outputs": [],
   "source": [
    "def compute_pca(data):\n",
    "    pca = PCA()\n",
    "    pca_data = pca.fit_transform(data)\n",
    "    return pca_data"
   ]
  },
  {
   "cell_type": "code",
   "execution_count": 500,
   "metadata": {},
   "outputs": [],
   "source": [
    "def save_shuffle_data():\n",
    "    all_data, all_label = load_data(-1)\n",
    "    \n",
    "    for i in range(0, 10):\n",
    "        data, label= load_data(i)\n",
    "        data, label = shuffle(data, label)\n",
    "#         data = data[0:1170]\n",
    "#         label = label[0:1170]\n",
    "        \n",
    "        all_data = np.concatenate((all_data, data))\n",
    "        all_label = np.concatenate((all_label, label))\n",
    "    \n",
    "    all_data, all_label = shuffle(all_data, all_label)\n",
    "\n",
    "    return all_data, all_label"
   ]
  },
  {
   "cell_type": "code",
   "execution_count": 501,
   "metadata": {},
   "outputs": [],
   "source": [
    "all_data, all_label = save_shuffle_data()"
   ]
  },
  {
   "cell_type": "code",
   "execution_count": 502,
   "metadata": {},
   "outputs": [],
   "source": [
    "np.savez('eeg_data_shuffle', x=all_data, y=all_label)"
   ]
  },
  {
   "cell_type": "code",
   "execution_count": 537,
   "metadata": {},
   "outputs": [],
   "source": [
    "# Classify rest and seeing any number\n",
    "# channel = [\"all\", \"frontal\", \"temporal\", \"parietal\", \"occipital\"]\n",
    "def rest_verses_all_number(channel):\n",
    "    class_1 = -1\n",
    "    class_2 = -1\n",
    "\n",
    "    data_1, label_1= load_data(class_1)\n",
    "    if channel == \"all\":\n",
    "        data_1, label_1 = binary_all_channel(data_1, label_1, 1)\n",
    "    else: \n",
    "        data_1, label_1 = binary_selected_channel(data_1, label_1, 1, channel) \n",
    "            \n",
    "    data_2, label_2 = load_data(class_2, not_id=True)\n",
    "    if channel == \"all\":\n",
    "        data_2, label_2 = binary_all_channel(data_2, label_2, -1)\n",
    "    else:\n",
    "        data_2, label_2 = binary_selected_channel(data_2, label_2, -1, channel)\n",
    "\n",
    "    X = np.concatenate((data_1, data_2))\n",
    "    y = np.concatenate((label_1, label_2))\n",
    "\n",
    "    X_normalized = sklearn.preprocessing.normalize(X, norm='l2')\n",
    "    X_pca = compute_pca(X_normalized)\n",
    "\n",
    "    all_data, all_label = shuffle(X_pca, y)\n",
    "    np.savez(\"data_shuffle/\"+ channel +\"_\" + \"all\" + \"_\" + \"vs\" +\"_\"+ \"rest\", x=all_data, y=all_label)\n",
    "    \n",
    "    print(\"Digit 0 ~ 9 verses rest\")\n",
    "    cross_val(all_data, all_label, int(len(all_data)/10), \"binary\")"
   ]
  },
  {
   "cell_type": "code",
   "execution_count": 484,
   "metadata": {},
   "outputs": [
    {
     "name": "stdout",
     "output_type": "stream",
     "text": [
      "Digit 0 ~ 9 verses rest\n",
      "Average error rate:0.016408813877168308\n"
     ]
    }
   ],
   "source": [
    "rest_verses_all_number(\"all\")"
   ]
  },
  {
   "cell_type": "code",
   "execution_count": 515,
   "metadata": {},
   "outputs": [],
   "source": [
    "# Classify rest and a number n (0-9)\n",
    "def rest_verses_single_number(channel):\n",
    "    for i in range(10):\n",
    "        data_rest, label_rest = load_data(-1)\n",
    "        if channel == \"all\":\n",
    "            data_rest, label_rest = binary_all_channel(data_rest, label_rest, 1)\n",
    "        else:\n",
    "            data_rest, label_rest = binary_selected_channel(data_rest, label_rest, 1, channel) \n",
    "\n",
    "        data_num, label_num = load_data(i)\n",
    "        \n",
    "        if channel == \"all\":\n",
    "            data_num, label_num = binary_all_channel(data_num, label_num, -1)\n",
    "        else:\n",
    "             data_num, label_num = binary_selected_channel(data_num, label_num, -1, channel) \n",
    "\n",
    "        X = np.concatenate((data_rest, data_num))\n",
    "        y = np.concatenate((label_rest, label_num))\n",
    "\n",
    "        X_normalized = sklearn.preprocessing.normalize(X, norm='l2')\n",
    "        X_pca = compute_pca(X_normalized)\n",
    "        \n",
    "        all_data, all_label = shuffle(X_pca, y)\n",
    "        np.savez(\"data_shuffle/\"+ channel +\"_\" + str(i) + \"_\" + \"vs\" +\"_\"+ \"rest\", x=all_data, y=all_label)\n",
    "\n",
    "        print(\"Digit \" + str(i) + \" verses rest\")\n",
    "        cross_val(all_data, all_label, int(len(all_data)/10), \"binary\")"
   ]
  },
  {
   "cell_type": "code",
   "execution_count": 538,
   "metadata": {},
   "outputs": [
    {
     "name": "stdout",
     "output_type": "stream",
     "text": [
      "Digit 0 ~ 9 verses rest\n",
      "Average error rate:0.012724014336917562\n",
      "Digit 0 ~ 9 verses rest\n",
      "Average error rate:0.01335125448028674\n",
      "Digit 0 ~ 9 verses rest\n",
      "Average error rate:0.013082437275985662\n",
      "Digit 0 ~ 9 verses rest\n",
      "Average error rate:0.012275985663082436\n",
      "Digit 0 ~ 9 verses rest\n",
      "Average error rate:0.012544802867383513\n"
     ]
    }
   ],
   "source": [
    "# Break down by brain region binary\n",
    "for i in [\"all\", \"frontal\", \"temporal\", \"parietal\", \"occipital\"]:\n",
    "    rest_verses_all_number(i)\n",
    "#     rest_verses_single_number(i)"
   ]
  },
  {
   "cell_type": "code",
   "execution_count": 539,
   "metadata": {},
   "outputs": [
    {
     "name": "stdout",
     "output_type": "stream",
     "text": [
      "all_0_vs_rest.npz\n",
      "Average error rate:0.03517186250999201\n",
      "all_1_vs_rest.npz\n",
      "Average error rate:0.029365079365079365\n",
      "all_2_vs_rest.npz\n",
      "Average error rate:0.027777777777777776\n",
      "all_3_vs_rest.npz\n",
      "Average error rate:0.029411764705882353\n",
      "all_4_vs_rest.npz\n",
      "Average error rate:0.029629629629629634\n",
      "all_5_vs_rest.npz\n",
      "Average error rate:0.03152088258471237\n",
      "all_6_vs_rest.npz\n",
      "Average error rate:0.02895148669796557\n",
      "all_7_vs_rest.npz\n",
      "Average error rate:0.03508771929824561\n",
      "all_8_vs_rest.npz\n",
      "Average error rate:0.02478017585931255\n",
      "all_9_vs_rest.npz\n",
      "Average error rate:0.02717825739408473\n",
      "all_all_vs_rest.npz\n",
      "Average error rate:0.012724014336917562\n",
      "frontal_0_vs_rest.npz\n",
      "Average error rate:0.02478017585931255\n",
      "frontal_1_vs_rest.npz\n",
      "Average error rate:0.0365079365079365\n",
      "frontal_2_vs_rest.npz\n",
      "Average error rate:0.024509803921568627\n",
      "frontal_3_vs_rest.npz\n",
      "Average error rate:0.027777777777777776\n",
      "frontal_4_vs_rest.npz\n",
      "Average error rate:0.030452674897119343\n",
      "frontal_5_vs_rest.npz\n",
      "Average error rate:0.025216706067769896\n",
      "frontal_6_vs_rest.npz\n",
      "Average error rate:0.03129890453834116\n",
      "frontal_7_vs_rest.npz\n",
      "Average error rate:0.03258145363408521\n",
      "frontal_8_vs_rest.npz\n",
      "Average error rate:0.03836930455635492\n",
      "frontal_9_vs_rest.npz\n",
      "Average error rate:0.02238209432454037\n",
      "frontal_all_vs_rest.npz\n",
      "Average error rate:0.01335125448028674\n",
      "occipital_0_vs_rest.npz\n",
      "Average error rate:0.1199040767386091\n",
      "occipital_1_vs_rest.npz\n",
      "Average error rate:0.11666666666666667\n",
      "occipital_2_vs_rest.npz\n",
      "Average error rate:0.12009803921568626\n",
      "occipital_3_vs_rest.npz\n",
      "Average error rate:0.12173202614379086\n",
      "occipital_4_vs_rest.npz\n",
      "Average error rate:0.12098765432098764\n",
      "occipital_5_vs_rest.npz\n",
      "Average error rate:0.14184397163120568\n",
      "occipital_6_vs_rest.npz\n",
      "Average error rate:0.15805946791862283\n",
      "occipital_7_vs_rest.npz\n",
      "Average error rate:0.12531328320802004\n",
      "occipital_8_vs_rest.npz\n",
      "Average error rate:0.11990407673860913\n",
      "occipital_9_vs_rest.npz\n",
      "Average error rate:0.32933653077537967\n",
      "occipital_all_vs_rest.npz\n",
      "Average error rate:0.012544802867383513\n",
      "parietal_0_vs_rest.npz\n",
      "Average error rate:0.11830535571542766\n",
      "parietal_1_vs_rest.npz\n",
      "Average error rate:0.1119047619047619\n",
      "parietal_2_vs_rest.npz\n",
      "Average error rate:0.11764705882352941\n",
      "parietal_3_vs_rest.npz\n",
      "Average error rate:0.11764705882352941\n",
      "parietal_4_vs_rest.npz\n",
      "Average error rate:0.12263374485596709\n",
      "parietal_5_vs_rest.npz\n",
      "Average error rate:0.11268715524034673\n",
      "parietal_6_vs_rest.npz\n",
      "Average error rate:0.11424100156494522\n",
      "parietal_7_vs_rest.npz\n",
      "Average error rate:0.12030075187969924\n",
      "parietal_8_vs_rest.npz\n",
      "Average error rate:0.11510791366906475\n",
      "parietal_9_vs_rest.npz\n",
      "Average error rate:0.11830535571542763\n",
      "parietal_all_vs_rest.npz\n",
      "Average error rate:0.012275985663082436\n",
      "temporal_0_vs_rest.npz\n",
      "Average error rate:0.11430855315747403\n",
      "temporal_1_vs_rest.npz\n",
      "Average error rate:0.10079365079365078\n",
      "temporal_2_vs_rest.npz\n",
      "Average error rate:0.10049019607843138\n",
      "temporal_3_vs_rest.npz\n",
      "Average error rate:0.23937908496732024\n",
      "temporal_4_vs_rest.npz\n",
      "Average error rate:0.11440329218106997\n",
      "temporal_5_vs_rest.npz\n",
      "Average error rate:0.09141055949566589\n",
      "temporal_6_vs_rest.npz\n",
      "Average error rate:0.09467918622848201\n",
      "temporal_7_vs_rest.npz\n",
      "Average error rate:0.1010860484544695\n",
      "temporal_8_vs_rest.npz\n",
      "Average error rate:0.09672262190247802\n",
      "temporal_9_vs_rest.npz\n",
      "Average error rate:0.0991207034372502\n",
      "temporal_all_vs_rest.npz\n",
      "Average error rate:0.013082437275985662\n"
     ]
    }
   ],
   "source": [
    "import os\n",
    "PATH = \"./data_shuffle\"\n",
    "lst = os.listdir(PATH)\n",
    "lst.sort()\n",
    "for file in lst:\n",
    "    data = np.load(os.path.join(PATH, file))\n",
    "    X = data['x']\n",
    "    y = data['y']\n",
    "    print(file)\n",
    "    cross_val(X, y, int(len(X)/10), \"binary\")"
   ]
  },
  {
   "cell_type": "code",
   "execution_count": 226,
   "metadata": {},
   "outputs": [
    {
     "name": "stdout",
     "output_type": "stream",
     "text": [
      "Error rate of each iteration: [0.863, 0.883, 0.894, 0.889, 0.898, 0.901, 0.885, 0.908, 0.904, 0.906]\n",
      "Average error rate:0.8931000000000001\n"
     ]
    }
   ],
   "source": [
    "# Classify multiple class (0-9 and rest)\n",
    "X, y = load_data(-1)\n",
    "X, y = multiclass_all_channel(X, y, -1)\n",
    "\n",
    "for i in range(0, 9):\n",
    "    data_num, label_num = load_data(i)\n",
    "    data_num, label_num = multiclass_all_channel(data_num, label_num, i)\n",
    "    \n",
    "    X = np.concatenate((X, data_num))\n",
    "    y = np.concatenate((y, label_num))\n",
    "    \n",
    "X_normalized = sklearn.preprocessing.normalize(X, norm='l2')\n",
    "X_pca = compute_pca(X_normalized)\n",
    "\n",
    "all_data, all_label = X_pca, y\n",
    "cross_val(all_data, all_label, 1000, \"multiclass\")"
   ]
  },
  {
   "cell_type": "code",
   "execution_count": 227,
   "metadata": {},
   "outputs": [],
   "source": [
    "# Breakdown by brain regions\n"
   ]
  },
  {
   "cell_type": "code",
   "execution_count": null,
   "metadata": {},
   "outputs": [],
   "source": []
  }
 ],
 "metadata": {
  "kernelspec": {
   "display_name": "Python 3",
   "language": "python",
   "name": "python3"
  },
  "language_info": {
   "codemirror_mode": {
    "name": "ipython",
    "version": 3
   },
   "file_extension": ".py",
   "mimetype": "text/x-python",
   "name": "python",
   "nbconvert_exporter": "python",
   "pygments_lexer": "ipython3",
   "version": "3.7.8"
  }
 },
 "nbformat": 4,
 "nbformat_minor": 4
}
