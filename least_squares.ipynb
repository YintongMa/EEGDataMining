{
 "cells": [
  {
   "cell_type": "code",
   "execution_count": 80,
   "metadata": {},
   "outputs": [],
   "source": [
    "import numpy as np\n",
    "import pandas as pd"
   ]
  },
  {
   "cell_type": "code",
   "execution_count": 81,
   "metadata": {},
   "outputs": [],
   "source": [
    "# Load data with specific id number\n",
    "def load_data(id_num):\n",
    "    data = np.load(\"eeg_data.npz\")\n",
    "    X = data['x']\n",
    "    y = data['y']\n",
    "    \n",
    "    index = [i for i in range(len(y)) if y[i] == id_num]\n",
    "    \n",
    "    output_data = []\n",
    "    output_label = []\n",
    "    \n",
    "    for i in index:\n",
    "        output_data.append(X[i])\n",
    "        output_label.append(y[i])\n",
    "        \n",
    "    return output_data, output_label"
   ]
  },
  {
   "cell_type": "code",
   "execution_count": 82,
   "metadata": {},
   "outputs": [],
   "source": [
    "# Compare seeing one number with rest \n",
    "def binary_all_channel(data, label, id_num):\n",
    "    if len(data) != len(label):\n",
    "        print(\"Something is wrong here\")\n",
    "        return\n",
    "    \n",
    "    output_data = []\n",
    "    output_label = []\n",
    "    \n",
    "    for i in range(len(label)):\n",
    "        if label[i] != id_num and label[i] != -1:\n",
    "            print(\"Something is wrong here\")\n",
    "            break\n",
    "        if label[i] != -1:\n",
    "            output_label.append(1)\n",
    "        else:\n",
    "            output_label.append(-1)\n",
    "        \n",
    "        feature = np.concatenate(data[i])\n",
    "        feature = np.nan_to_num(feature)\n",
    "        output_data.append(feature)\n",
    "        \n",
    "    return output_data, output_label    "
   ]
  },
  {
   "cell_type": "code",
   "execution_count": 83,
   "metadata": {},
   "outputs": [],
   "source": [
    "def train(X, y):\n",
    "    w = np.linalg.inv((X.transpose() @ X)) @ (X.transpose() @ y)\n",
    "    return w"
   ]
  },
  {
   "cell_type": "code",
   "execution_count": 84,
   "metadata": {},
   "outputs": [],
   "source": [
    "def binary_predict(X, w):\n",
    "    raw_val = X.transpose() @ w\n",
    "    \n",
    "    if raw_val >= 0:\n",
    "        return 1\n",
    "    if raw_val < 0:\n",
    "        return -1"
   ]
  },
  {
   "cell_type": "code",
   "execution_count": 85,
   "metadata": {},
   "outputs": [],
   "source": [
    "def multiclass_predict(X, w):\n",
    "    raw_val = X.transpose() @ w\n",
    "    \n",
    "    if raw_val >= 0:\n",
    "        return 1\n",
    "    if raw_val < 0:\n",
    "        return -1"
   ]
  },
  {
   "cell_type": "code",
   "execution_count": 86,
   "metadata": {},
   "outputs": [
    {
     "ename": "SyntaxError",
     "evalue": "unexpected EOF while parsing (<ipython-input-86-7da3f0b7d18a>, line 1)",
     "output_type": "error",
     "traceback": [
      "\u001b[0;36m  File \u001b[0;32m\"<ipython-input-86-7da3f0b7d18a>\"\u001b[0;36m, line \u001b[0;32m1\u001b[0m\n\u001b[0;31m    def cross_val(X, w):\u001b[0m\n\u001b[0m                        ^\u001b[0m\n\u001b[0;31mSyntaxError\u001b[0m\u001b[0;31m:\u001b[0m unexpected EOF while parsing\n"
     ]
    }
   ],
   "source": [
    "def cross_val(X, w):"
   ]
  },
  {
   "cell_type": "code",
   "execution_count": 87,
   "metadata": {},
   "outputs": [],
   "source": [
    "data_rest, label_rest = load_data(-1)\n",
    "data_4, label_4 = binary_all_channel(data_rest, label_rest, 4)"
   ]
  },
  {
   "cell_type": "code",
   "execution_count": null,
   "metadata": {},
   "outputs": [],
   "source": []
  }
 ],
 "metadata": {
  "kernelspec": {
   "display_name": "Python 3",
   "language": "python",
   "name": "python3"
  },
  "language_info": {
   "codemirror_mode": {
    "name": "ipython",
    "version": 3
   },
   "file_extension": ".py",
   "mimetype": "text/x-python",
   "name": "python",
   "nbconvert_exporter": "python",
   "pygments_lexer": "ipython3",
   "version": "3.7.8"
  }
 },
 "nbformat": 4,
 "nbformat_minor": 4
}
